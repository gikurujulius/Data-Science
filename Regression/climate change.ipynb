{
 "cells": [
  {
   "cell_type": "code",
   "execution_count": 1,
   "id": "a3bd7d2a-351f-42b2-a399-a7ba45f29783",
   "metadata": {},
   "outputs": [],
   "source": [
    "from sklearn.linear_model import LinearRegression\n",
    "import numpy as np\n",
    "import pandas as pd\n",
    "from matplotlib import pyplot as plt"
   ]
  },
  {
   "cell_type": "code",
   "execution_count": 2,
   "id": "c36884cf-08f4-48f3-a7e9-9a15cb2a22ea",
   "metadata": {},
   "outputs": [],
   "source": [
    "est = LinearRegression(fit_intercept = True)"
   ]
  },
  {
   "cell_type": "code",
   "execution_count": 3,
   "id": "48f9cae7-5096-4bfc-9a19-21ca9f83787f",
   "metadata": {},
   "outputs": [
    {
     "data": {
      "text/html": [
       "<div>\n",
       "<style scoped>\n",
       "    .dataframe tbody tr th:only-of-type {\n",
       "        vertical-align: middle;\n",
       "    }\n",
       "\n",
       "    .dataframe tbody tr th {\n",
       "        vertical-align: top;\n",
       "    }\n",
       "\n",
       "    .dataframe thead th {\n",
       "        text-align: right;\n",
       "    }\n",
       "</style>\n",
       "<table border=\"1\" class=\"dataframe\">\n",
       "  <thead>\n",
       "    <tr style=\"text-align: right;\">\n",
       "      <th></th>\n",
       "      <th>year</th>\n",
       "      <th>mo</th>\n",
       "      <th>data_type</th>\n",
       "      <th>region</th>\n",
       "      <th>extent</th>\n",
       "      <th>area</th>\n",
       "    </tr>\n",
       "  </thead>\n",
       "  <tbody>\n",
       "    <tr>\n",
       "      <th>0</th>\n",
       "      <td>1979</td>\n",
       "      <td>1</td>\n",
       "      <td>Goddard</td>\n",
       "      <td>N</td>\n",
       "      <td>15.54</td>\n",
       "      <td>12.33</td>\n",
       "    </tr>\n",
       "    <tr>\n",
       "      <th>1</th>\n",
       "      <td>1980</td>\n",
       "      <td>1</td>\n",
       "      <td>Goddard</td>\n",
       "      <td>N</td>\n",
       "      <td>14.96</td>\n",
       "      <td>11.85</td>\n",
       "    </tr>\n",
       "    <tr>\n",
       "      <th>2</th>\n",
       "      <td>1981</td>\n",
       "      <td>1</td>\n",
       "      <td>Goddard</td>\n",
       "      <td>N</td>\n",
       "      <td>15.03</td>\n",
       "      <td>11.82</td>\n",
       "    </tr>\n",
       "    <tr>\n",
       "      <th>3</th>\n",
       "      <td>1982</td>\n",
       "      <td>1</td>\n",
       "      <td>Goddard</td>\n",
       "      <td>N</td>\n",
       "      <td>15.26</td>\n",
       "      <td>12.11</td>\n",
       "    </tr>\n",
       "    <tr>\n",
       "      <th>4</th>\n",
       "      <td>1983</td>\n",
       "      <td>1</td>\n",
       "      <td>Goddard</td>\n",
       "      <td>N</td>\n",
       "      <td>15.10</td>\n",
       "      <td>11.92</td>\n",
       "    </tr>\n",
       "    <tr>\n",
       "      <th>...</th>\n",
       "      <td>...</td>\n",
       "      <td>...</td>\n",
       "      <td>...</td>\n",
       "      <td>...</td>\n",
       "      <td>...</td>\n",
       "      <td>...</td>\n",
       "    </tr>\n",
       "    <tr>\n",
       "      <th>419</th>\n",
       "      <td>2009</td>\n",
       "      <td>12</td>\n",
       "      <td>Goddard</td>\n",
       "      <td>N</td>\n",
       "      <td>12.51</td>\n",
       "      <td>10.25</td>\n",
       "    </tr>\n",
       "    <tr>\n",
       "      <th>420</th>\n",
       "      <td>2010</td>\n",
       "      <td>12</td>\n",
       "      <td>Goddard</td>\n",
       "      <td>N</td>\n",
       "      <td>12.02</td>\n",
       "      <td>10.08</td>\n",
       "    </tr>\n",
       "    <tr>\n",
       "      <th>421</th>\n",
       "      <td>2011</td>\n",
       "      <td>12</td>\n",
       "      <td>Goddard</td>\n",
       "      <td>N</td>\n",
       "      <td>12.40</td>\n",
       "      <td>10.28</td>\n",
       "    </tr>\n",
       "    <tr>\n",
       "      <th>422</th>\n",
       "      <td>2012</td>\n",
       "      <td>12</td>\n",
       "      <td>Goddard</td>\n",
       "      <td>N</td>\n",
       "      <td>12.20</td>\n",
       "      <td>10.11</td>\n",
       "    </tr>\n",
       "    <tr>\n",
       "      <th>423</th>\n",
       "      <td>2013</td>\n",
       "      <td>12</td>\n",
       "      <td>NRTSI-G</td>\n",
       "      <td>N</td>\n",
       "      <td>12.38</td>\n",
       "      <td>10.48</td>\n",
       "    </tr>\n",
       "  </tbody>\n",
       "</table>\n",
       "<p>424 rows × 6 columns</p>\n",
       "</div>"
      ],
      "text/plain": [
       "     year  mo data_type region  extent   area\n",
       "0    1979   1   Goddard      N   15.54  12.33\n",
       "1    1980   1   Goddard      N   14.96  11.85\n",
       "2    1981   1   Goddard      N   15.03  11.82\n",
       "3    1982   1   Goddard      N   15.26  12.11\n",
       "4    1983   1   Goddard      N   15.10  11.92\n",
       "..    ...  ..       ...    ...     ...    ...\n",
       "419  2009  12   Goddard      N   12.51  10.25\n",
       "420  2010  12   Goddard      N   12.02  10.08\n",
       "421  2011  12   Goddard      N   12.40  10.28\n",
       "422  2012  12   Goddard      N   12.20  10.11\n",
       "423  2013  12   NRTSI-G      N   12.38  10.48\n",
       "\n",
       "[424 rows x 6 columns]"
      ]
     },
     "execution_count": 3,
     "metadata": {},
     "output_type": "execute_result"
    }
   ],
   "source": [
    "ice = pd.read_csv('SeaIce.txt', delim_whitespace = True)\n",
    "ice"
   ]
  },
  {
   "cell_type": "code",
   "execution_count": 14,
   "id": "9f9d453e-afa8-4b17-81fd-3ddbb43a3472",
   "metadata": {},
   "outputs": [],
   "source": [
    "clean_ice_data = ice[ice.data_type != '-9999']\n",
    "#for i in range(12):\n",
    " #   clean_ice_data.extent[clean_ice_data.mo == i + 1] = 100 * (clean_ice_data.extent[clean_ice_data == i + 1]\n",
    "  #                                                             - month_means[i + 1])/ month_means.mean()"
   ]
  },
  {
   "cell_type": "code",
   "execution_count": 15,
   "id": "0a3932b3-a651-4f97-8f83-6f28ea658546",
   "metadata": {},
   "outputs": [
    {
     "name": "stdout",
     "output_type": "stream",
     "text": [
      "Coefficients:  [[-0.05018625]]\n",
      "Intercept:  [111.95135764]\n"
     ]
    }
   ],
   "source": [
    "x = clean_ice_data[['year']]\n",
    "y = clean_ice_data[['extent']]\n",
    "est.fit(x, y)\n",
    "print(\"Coefficients: \", est.coef_)\n",
    "print(\"Intercept: \", est.intercept_)"
   ]
  },
  {
   "cell_type": "code",
   "execution_count": 17,
   "id": "801c5c56-8122-41b0-848b-15e9b95affa9",
   "metadata": {},
   "outputs": [
    {
     "name": "stdout",
     "output_type": "stream",
     "text": [
      "MSE:  9.453277027370584\n",
      "R ^ 2 :  -35.00545377482946\n",
      "Var:  extent    9.738906\n",
      "dtype: float64\n"
     ]
    }
   ],
   "source": [
    "from sklearn import metrics\n",
    "y_hat = est.predict(x)\n",
    "print(\"MSE: \", metrics.mean_squared_error(y_hat, y))\n",
    "print(\"R ^ 2 : \", metrics.r2_score(y_hat, y))\n",
    "print(\"Var: \", y.var())"
   ]
  },
  {
   "cell_type": "code",
   "execution_count": 23,
   "id": "dc11e850-dd94-45ee-9e5d-194a9fbfc61e",
   "metadata": {},
   "outputs": [
    {
     "name": "stdout",
     "output_type": "stream",
     "text": [
      "Prediction of extent for the year 2025:  [[10.32420344]]\n"
     ]
    },
    {
     "name": "stderr",
     "output_type": "stream",
     "text": [
      "C:\\Users\\jules\\anaconda3\\Lib\\site-packages\\sklearn\\base.py:439: UserWarning: X does not have valid feature names, but LinearRegression was fitted with feature names\n",
      "  warnings.warn(\n"
     ]
    }
   ],
   "source": [
    "#Let's try predict for year 2025\n",
    "x = [[2025]]\n",
    "y_pred = est.predict(x)\n",
    "print(\"Prediction of extent for the year 2025: \", y_pred)"
   ]
  },
  {
   "cell_type": "code",
   "execution_count": null,
   "id": "1460e17c-fbaf-499c-82fd-e209322b56bf",
   "metadata": {},
   "outputs": [],
   "source": []
  }
 ],
 "metadata": {
  "kernelspec": {
   "display_name": "Python 3 (ipykernel)",
   "language": "python",
   "name": "python3"
  },
  "language_info": {
   "codemirror_mode": {
    "name": "ipython",
    "version": 3
   },
   "file_extension": ".py",
   "mimetype": "text/x-python",
   "name": "python",
   "nbconvert_exporter": "python",
   "pygments_lexer": "ipython3",
   "version": "3.11.5"
  }
 },
 "nbformat": 4,
 "nbformat_minor": 5
}
