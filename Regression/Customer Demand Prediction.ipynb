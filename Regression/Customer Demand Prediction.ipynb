{
 "cells": [
  {
   "cell_type": "markdown",
   "id": "1cd53ab6-ce42-4819-a6a7-3da1edec9587",
   "metadata": {},
   "source": [
    "You are a data analyst for a car dealership in Quebec, Canada. The business runs on a standard business model for retail: buy cars from a manufacturer at a low price and then sell those cars to individual customers at higher prices. Every month, the business decides how many cars to order from the manufacturer. If you order too many cars, you’ll be unable to sell them all quickly, resulting in high storage costs or cash flow problems. If you order too few cars, you won’t be able to meet your customers’ demands. Ordering the right number of cars is important. But what is the right number?. We need to forecast the demand and place an order based on our forecast."
   ]
  },
  {
   "cell_type": "code",
   "execution_count": 1,
   "id": "cbd02be5-5610-4144-90a4-2ec2636672c9",
   "metadata": {},
   "outputs": [],
   "source": [
    "import pandas as pd\n",
    "import numpy as np"
   ]
  },
  {
   "cell_type": "code",
   "execution_count": 2,
   "id": "0e99f207-1c95-43d0-806e-b7ac63599f24",
   "metadata": {},
   "outputs": [
    {
     "data": {
      "text/html": [
       "<div>\n",
       "<style scoped>\n",
       "    .dataframe tbody tr th:only-of-type {\n",
       "        vertical-align: middle;\n",
       "    }\n",
       "\n",
       "    .dataframe tbody tr th {\n",
       "        vertical-align: top;\n",
       "    }\n",
       "\n",
       "    .dataframe thead th {\n",
       "        text-align: right;\n",
       "    }\n",
       "</style>\n",
       "<table border=\"1\" class=\"dataframe\">\n",
       "  <thead>\n",
       "    <tr style=\"text-align: right;\">\n",
       "      <th></th>\n",
       "      <th>Month</th>\n",
       "      <th>Monthly car sales in Quebec 1960-1968</th>\n",
       "    </tr>\n",
       "  </thead>\n",
       "  <tbody>\n",
       "    <tr>\n",
       "      <th>0</th>\n",
       "      <td>1960-01</td>\n",
       "      <td>6550.0</td>\n",
       "    </tr>\n",
       "    <tr>\n",
       "      <th>1</th>\n",
       "      <td>1960-02</td>\n",
       "      <td>8728.0</td>\n",
       "    </tr>\n",
       "    <tr>\n",
       "      <th>2</th>\n",
       "      <td>1960-03</td>\n",
       "      <td>12026.0</td>\n",
       "    </tr>\n",
       "    <tr>\n",
       "      <th>3</th>\n",
       "      <td>1960-04</td>\n",
       "      <td>14395.0</td>\n",
       "    </tr>\n",
       "    <tr>\n",
       "      <th>4</th>\n",
       "      <td>1960-05</td>\n",
       "      <td>14587.0</td>\n",
       "    </tr>\n",
       "    <tr>\n",
       "      <th>...</th>\n",
       "      <td>...</td>\n",
       "      <td>...</td>\n",
       "    </tr>\n",
       "    <tr>\n",
       "      <th>104</th>\n",
       "      <td>1968-09</td>\n",
       "      <td>14385.0</td>\n",
       "    </tr>\n",
       "    <tr>\n",
       "      <th>105</th>\n",
       "      <td>1968-10</td>\n",
       "      <td>21342.0</td>\n",
       "    </tr>\n",
       "    <tr>\n",
       "      <th>106</th>\n",
       "      <td>1968-11</td>\n",
       "      <td>17180.0</td>\n",
       "    </tr>\n",
       "    <tr>\n",
       "      <th>107</th>\n",
       "      <td>1968-12</td>\n",
       "      <td>14577.0</td>\n",
       "    </tr>\n",
       "    <tr>\n",
       "      <th>108</th>\n",
       "      <td>Monthly car sales in Quebec 1960-1968</td>\n",
       "      <td>NaN</td>\n",
       "    </tr>\n",
       "  </tbody>\n",
       "</table>\n",
       "<p>109 rows × 2 columns</p>\n",
       "</div>"
      ],
      "text/plain": [
       "                                     Month  \\\n",
       "0                                  1960-01   \n",
       "1                                  1960-02   \n",
       "2                                  1960-03   \n",
       "3                                  1960-04   \n",
       "4                                  1960-05   \n",
       "..                                     ...   \n",
       "104                                1968-09   \n",
       "105                                1968-10   \n",
       "106                                1968-11   \n",
       "107                                1968-12   \n",
       "108  Monthly car sales in Quebec 1960-1968   \n",
       "\n",
       "     Monthly car sales in Quebec 1960-1968  \n",
       "0                                   6550.0  \n",
       "1                                   8728.0  \n",
       "2                                  12026.0  \n",
       "3                                  14395.0  \n",
       "4                                  14587.0  \n",
       "..                                     ...  \n",
       "104                                14385.0  \n",
       "105                                21342.0  \n",
       "106                                17180.0  \n",
       "107                                14577.0  \n",
       "108                                    NaN  \n",
       "\n",
       "[109 rows x 2 columns]"
      ]
     },
     "execution_count": 2,
     "metadata": {},
     "output_type": "execute_result"
    }
   ],
   "source": [
    "car_sales = pd.read_csv('carsales.csv')\n",
    "car_sales\n"
   ]
  },
  {
   "cell_type": "code",
   "execution_count": 3,
   "id": "5fd6eb2a-23d8-4420-b949-976e3ce5b62a",
   "metadata": {},
   "outputs": [
    {
     "data": {
      "text/html": [
       "<div>\n",
       "<style scoped>\n",
       "    .dataframe tbody tr th:only-of-type {\n",
       "        vertical-align: middle;\n",
       "    }\n",
       "\n",
       "    .dataframe tbody tr th {\n",
       "        vertical-align: top;\n",
       "    }\n",
       "\n",
       "    .dataframe thead th {\n",
       "        text-align: right;\n",
       "    }\n",
       "</style>\n",
       "<table border=\"1\" class=\"dataframe\">\n",
       "  <thead>\n",
       "    <tr style=\"text-align: right;\">\n",
       "      <th></th>\n",
       "      <th>Monthly car sales in Quebec 1960-1968</th>\n",
       "    </tr>\n",
       "  </thead>\n",
       "  <tbody>\n",
       "    <tr>\n",
       "      <th>count</th>\n",
       "      <td>108.000000</td>\n",
       "    </tr>\n",
       "    <tr>\n",
       "      <th>mean</th>\n",
       "      <td>14595.111111</td>\n",
       "    </tr>\n",
       "    <tr>\n",
       "      <th>std</th>\n",
       "      <td>4525.213913</td>\n",
       "    </tr>\n",
       "    <tr>\n",
       "      <th>min</th>\n",
       "      <td>5568.000000</td>\n",
       "    </tr>\n",
       "    <tr>\n",
       "      <th>25%</th>\n",
       "      <td>11391.250000</td>\n",
       "    </tr>\n",
       "    <tr>\n",
       "      <th>50%</th>\n",
       "      <td>14076.000000</td>\n",
       "    </tr>\n",
       "    <tr>\n",
       "      <th>75%</th>\n",
       "      <td>17595.750000</td>\n",
       "    </tr>\n",
       "    <tr>\n",
       "      <th>max</th>\n",
       "      <td>26099.000000</td>\n",
       "    </tr>\n",
       "  </tbody>\n",
       "</table>\n",
       "</div>"
      ],
      "text/plain": [
       "       Monthly car sales in Quebec 1960-1968\n",
       "count                             108.000000\n",
       "mean                            14595.111111\n",
       "std                              4525.213913\n",
       "min                              5568.000000\n",
       "25%                             11391.250000\n",
       "50%                             14076.000000\n",
       "75%                             17595.750000\n",
       "max                             26099.000000"
      ]
     },
     "execution_count": 3,
     "metadata": {},
     "output_type": "execute_result"
    }
   ],
   "source": [
    "car_sales.describe()\n"
   ]
  },
  {
   "cell_type": "code",
   "execution_count": 6,
   "id": "260afeba-3f5c-429b-8c26-3b3fcb7ff94d",
   "metadata": {},
   "outputs": [
    {
     "data": {
      "text/html": [
       "<div>\n",
       "<style scoped>\n",
       "    .dataframe tbody tr th:only-of-type {\n",
       "        vertical-align: middle;\n",
       "    }\n",
       "\n",
       "    .dataframe tbody tr th {\n",
       "        vertical-align: top;\n",
       "    }\n",
       "\n",
       "    .dataframe thead th {\n",
       "        text-align: right;\n",
       "    }\n",
       "</style>\n",
       "<table border=\"1\" class=\"dataframe\">\n",
       "  <thead>\n",
       "    <tr style=\"text-align: right;\">\n",
       "      <th></th>\n",
       "      <th>month</th>\n",
       "      <th>sales</th>\n",
       "    </tr>\n",
       "  </thead>\n",
       "  <tbody>\n",
       "    <tr>\n",
       "      <th>0</th>\n",
       "      <td>1960-01</td>\n",
       "      <td>6550.0</td>\n",
       "    </tr>\n",
       "    <tr>\n",
       "      <th>1</th>\n",
       "      <td>1960-02</td>\n",
       "      <td>8728.0</td>\n",
       "    </tr>\n",
       "    <tr>\n",
       "      <th>2</th>\n",
       "      <td>1960-03</td>\n",
       "      <td>12026.0</td>\n",
       "    </tr>\n",
       "    <tr>\n",
       "      <th>3</th>\n",
       "      <td>1960-04</td>\n",
       "      <td>14395.0</td>\n",
       "    </tr>\n",
       "    <tr>\n",
       "      <th>4</th>\n",
       "      <td>1960-05</td>\n",
       "      <td>14587.0</td>\n",
       "    </tr>\n",
       "    <tr>\n",
       "      <th>...</th>\n",
       "      <td>...</td>\n",
       "      <td>...</td>\n",
       "    </tr>\n",
       "    <tr>\n",
       "      <th>104</th>\n",
       "      <td>1968-09</td>\n",
       "      <td>14385.0</td>\n",
       "    </tr>\n",
       "    <tr>\n",
       "      <th>105</th>\n",
       "      <td>1968-10</td>\n",
       "      <td>21342.0</td>\n",
       "    </tr>\n",
       "    <tr>\n",
       "      <th>106</th>\n",
       "      <td>1968-11</td>\n",
       "      <td>17180.0</td>\n",
       "    </tr>\n",
       "    <tr>\n",
       "      <th>107</th>\n",
       "      <td>1968-12</td>\n",
       "      <td>14577.0</td>\n",
       "    </tr>\n",
       "    <tr>\n",
       "      <th>108</th>\n",
       "      <td>Monthly car sales in Quebec 1960-1968</td>\n",
       "      <td>NaN</td>\n",
       "    </tr>\n",
       "  </tbody>\n",
       "</table>\n",
       "<p>109 rows × 2 columns</p>\n",
       "</div>"
      ],
      "text/plain": [
       "                                     month    sales\n",
       "0                                  1960-01   6550.0\n",
       "1                                  1960-02   8728.0\n",
       "2                                  1960-03  12026.0\n",
       "3                                  1960-04  14395.0\n",
       "4                                  1960-05  14587.0\n",
       "..                                     ...      ...\n",
       "104                                1968-09  14385.0\n",
       "105                                1968-10  21342.0\n",
       "106                                1968-11  17180.0\n",
       "107                                1968-12  14577.0\n",
       "108  Monthly car sales in Quebec 1960-1968      NaN\n",
       "\n",
       "[109 rows x 2 columns]"
      ]
     },
     "execution_count": 6,
     "metadata": {},
     "output_type": "execute_result"
    }
   ],
   "source": [
    "car_sales.columns = ['month', 'sales']\n",
    "car_sales"
   ]
  },
  {
   "cell_type": "code",
   "execution_count": 9,
   "id": "24d64dce-65be-4be0-8aed-e669f4f366fc",
   "metadata": {},
   "outputs": [
    {
     "data": {
      "text/html": [
       "<div>\n",
       "<style scoped>\n",
       "    .dataframe tbody tr th:only-of-type {\n",
       "        vertical-align: middle;\n",
       "    }\n",
       "\n",
       "    .dataframe tbody tr th {\n",
       "        vertical-align: top;\n",
       "    }\n",
       "\n",
       "    .dataframe thead th {\n",
       "        text-align: right;\n",
       "    }\n",
       "</style>\n",
       "<table border=\"1\" class=\"dataframe\">\n",
       "  <thead>\n",
       "    <tr style=\"text-align: right;\">\n",
       "      <th></th>\n",
       "      <th>month</th>\n",
       "      <th>sales</th>\n",
       "      <th>period</th>\n",
       "    </tr>\n",
       "  </thead>\n",
       "  <tbody>\n",
       "    <tr>\n",
       "      <th>103</th>\n",
       "      <td>1968-08</td>\n",
       "      <td>16722.0</td>\n",
       "      <td>103</td>\n",
       "    </tr>\n",
       "    <tr>\n",
       "      <th>104</th>\n",
       "      <td>1968-09</td>\n",
       "      <td>14385.0</td>\n",
       "      <td>104</td>\n",
       "    </tr>\n",
       "    <tr>\n",
       "      <th>105</th>\n",
       "      <td>1968-10</td>\n",
       "      <td>21342.0</td>\n",
       "      <td>105</td>\n",
       "    </tr>\n",
       "    <tr>\n",
       "      <th>106</th>\n",
       "      <td>1968-11</td>\n",
       "      <td>17180.0</td>\n",
       "      <td>106</td>\n",
       "    </tr>\n",
       "    <tr>\n",
       "      <th>107</th>\n",
       "      <td>1968-12</td>\n",
       "      <td>14577.0</td>\n",
       "      <td>107</td>\n",
       "    </tr>\n",
       "  </tbody>\n",
       "</table>\n",
       "</div>"
      ],
      "text/plain": [
       "       month    sales  period\n",
       "103  1968-08  16722.0     103\n",
       "104  1968-09  14385.0     104\n",
       "105  1968-10  21342.0     105\n",
       "106  1968-11  17180.0     106\n",
       "107  1968-12  14577.0     107"
      ]
     },
     "execution_count": 9,
     "metadata": {},
     "output_type": "execute_result"
    }
   ],
   "source": [
    "#Clean the last row that contains no data\n",
    "car_sales = car_sales.loc[0:107, :].copy()\n",
    "car_sales.tail()"
   ]
  },
  {
   "cell_type": "code",
   "execution_count": 10,
   "id": "8129a481-8b46-47cc-8ace-042a9f5ae9ed",
   "metadata": {},
   "outputs": [],
   "source": [
    "car_sales['period'] = list(range(108))"
   ]
  },
  {
   "cell_type": "code",
   "execution_count": 12,
   "id": "f69d409e-3a61-49e4-b5d7-a028b989157b",
   "metadata": {},
   "outputs": [
    {
     "data": {
      "image/png": "[encoded data removed]",
      "text/plain": [
       "<Figure size 640x480 with 1 Axes>"
      ]
     },
     "metadata": {},
     "output_type": "display_data"
    }
   ],
   "source": [
    "#Plotting the data\n",
    "import matplotlib.pyplot as plt\n",
    "plt.scatter(car_sales['period'], car_sales['sales'])\n",
    "plt.title(\"Car sales per month\")\n",
    "plt.xlabel(\"Month\")\n",
    "plt.ylabel(\"Sales\")\n",
    "plt.show()"
   ]
  },
  {
   "cell_type": "markdown",
   "id": "536e7cdc-0d69-4fdd-bafe-0e1cbd2f0fc7",
   "metadata": {},
   "source": [
    "From the plot, Sales tend to increase over time"
   ]
  },
  {
   "cell_type": "code",
   "execution_count": 20,
   "id": "17c118af-faa2-4258-a6fb-219d08011458",
   "metadata": {},
   "outputs": [
    {
     "data": {
      "text/plain": [
       "0        0\n",
       "1        1\n",
       "2        2\n",
       "3        3\n",
       "4        4\n",
       "      ... \n",
       "103    103\n",
       "104    104\n",
       "105    105\n",
       "106    106\n",
       "107    107\n",
       "Name: period, Length: 108, dtype: int64"
      ]
     },
     "execution_count": 20,
     "metadata": {},
     "output_type": "execute_result"
    }
   ],
   "source": [
    "x = car_sales['period']\n",
    "x"
   ]
  },
  {
   "cell_type": "code",
   "execution_count": 21,
   "id": "a6fd3c89-c77d-4a15-98bf-a58f81a1068d",
   "metadata": {},
   "outputs": [
    {
     "data": {
      "text/plain": [
       "0       6550.0\n",
       "1       8728.0\n",
       "2      12026.0\n",
       "3      14395.0\n",
       "4      14587.0\n",
       "        ...   \n",
       "103    16722.0\n",
       "104    14385.0\n",
       "105    21342.0\n",
       "106    17180.0\n",
       "107    14577.0\n",
       "Name: sales, Length: 108, dtype: float64"
      ]
     },
     "execution_count": 21,
     "metadata": {},
     "output_type": "execute_result"
    }
   ],
   "source": [
    "y = car_sales['sales']\n",
    "y"
   ]
  },
  {
   "cell_type": "code",
   "execution_count": 22,
   "id": "c5910a5b-fc0a-41ef-bbfa-d62d8a0bbd24",
   "metadata": {},
   "outputs": [
    {
     "name": "stdout",
     "output_type": "stream",
     "text": [
      "The correlation of the two variables is:  0.5620368608323554\n"
     ]
    }
   ],
   "source": [
    "print(\"The correlation of the two variables is: \", x.corr(y))"
   ]
  },
  {
   "cell_type": "code",
   "execution_count": 26,
   "id": "0544c61a-430b-46e1-ae43-3c2bcf22a99b",
   "metadata": {},
   "outputs": [],
   "source": [
    "from sklearn.model_selection import train_test_split\n",
    "x_train, x_test, y_train, y_test = train_test_split(x, y, test_size = 0.3, random_state = 0)\n",
    "x_train = np.array(x_train).reshape(-1,1)\n",
    "x_test = np.array(x_test).reshape(-1, 1)"
   ]
  },
  {
   "cell_type": "code",
   "execution_count": 27,
   "id": "fef89f7b-8893-4e3d-89ac-9ffc25595bb9",
   "metadata": {},
   "outputs": [
    {
     "data": {
      "text/html": [
       "<style>#sk-container-id-1 {color: black;background-color: white;}#sk-container-id-1 pre{padding: 0;}#sk-container-id-1 div.sk-toggleable {background-color: white;}#sk-container-id-1 label.sk-toggleable__label {cursor: pointer;display: block;width: 100%;margin-bottom: 0;padding: 0.3em;box-sizing: border-box;text-align: center;}#sk-container-id-1 label.sk-toggleable__label-arrow:before {content: \"▸\";float: left;margin-right: 0.25em;color: #696969;}#sk-container-id-1 label.sk-toggleable__label-arrow:hover:before {color: black;}#sk-container-id-1 div.sk-estimator:hover label.sk-toggleable__label-arrow:before {color: black;}#sk-container-id-1 div.sk-toggleable__content {max-height: 0;max-width: 0;overflow: hidden;text-align: left;background-color: #f0f8ff;}#sk-container-id-1 div.sk-toggleable__content pre {margin: 0.2em;color: black;border-radius: 0.25em;background-color: #f0f8ff;}#sk-container-id-1 input.sk-toggleable__control:checked~div.sk-toggleable__content {max-height: 200px;max-width: 100%;overflow: auto;}#sk-container-id-1 input.sk-toggleable__control:checked~label.sk-toggleable__label-arrow:before {content: \"▾\";}#sk-container-id-1 div.sk-estimator input.sk-toggleable__control:checked~label.sk-toggleable__label {background-color: #d4ebff;}#sk-container-id-1 div.sk-label input.sk-toggleable__control:checked~label.sk-toggleable__label {background-color: #d4ebff;}#sk-container-id-1 input.sk-hidden--visually {border: 0;clip: rect(1px 1px 1px 1px);clip: rect(1px, 1px, 1px, 1px);height: 1px;margin: -1px;overflow: hidden;padding: 0;position: absolute;width: 1px;}#sk-container-id-1 div.sk-estimator {font-family: monospace;background-color: #f0f8ff;border: 1px dotted black;border-radius: 0.25em;box-sizing: border-box;margin-bottom: 0.5em;}#sk-container-id-1 div.sk-estimator:hover {background-color: #d4ebff;}#sk-container-id-1 div.sk-parallel-item::after {content: \"\";width: 100%;border-bottom: 1px solid gray;flex-grow: 1;}#sk-container-id-1 div.sk-label:hover label.sk-toggleable__label {background-color: #d4ebff;}#sk-container-id-1 div.sk-serial::before {content: \"\";position: absolute;border-left: 1px solid gray;box-sizing: border-box;top: 0;bottom: 0;left: 50%;z-index: 0;}#sk-container-id-1 div.sk-serial {display: flex;flex-direction: column;align-items: center;background-color: white;padding-right: 0.2em;padding-left: 0.2em;position: relative;}#sk-container-id-1 div.sk-item {position: relative;z-index: 1;}#sk-container-id-1 div.sk-parallel {display: flex;align-items: stretch;justify-content: center;background-color: white;position: relative;}#sk-container-id-1 div.sk-item::before, #sk-container-id-1 div.sk-parallel-item::before {content: \"\";position: absolute;border-left: 1px solid gray;box-sizing: border-box;top: 0;bottom: 0;left: 50%;z-index: -1;}#sk-container-id-1 div.sk-parallel-item {display: flex;flex-direction: column;z-index: 1;position: relative;background-color: white;}#sk-container-id-1 div.sk-parallel-item:first-child::after {align-self: flex-end;width: 50%;}#sk-container-id-1 div.sk-parallel-item:last-child::after {align-self: flex-start;width: 50%;}#sk-container-id-1 div.sk-parallel-item:only-child::after {width: 0;}#sk-container-id-1 div.sk-dashed-wrapped {border: 1px dashed gray;margin: 0 0.4em 0.5em 0.4em;box-sizing: border-box;padding-bottom: 0.4em;background-color: white;}#sk-container-id-1 div.sk-label label {font-family: monospace;font-weight: bold;display: inline-block;line-height: 1.2em;}#sk-container-id-1 div.sk-label-container {text-align: center;}#sk-container-id-1 div.sk-container {/* jupyter's `normalize.less` sets `[hidden] { display: none; }` but bootstrap.min.css set `[hidden] { display: none !important; }` so we also need the `!important` here to be able to override the default hidden behavior on the sphinx rendered scikit-learn.org. See: https://github.com/scikit-learn/scikit-learn/issues/21755 */display: inline-block !important;position: relative;}#sk-container-id-1 div.sk-text-repr-fallback {display: none;}</style><div id=\"sk-container-id-1\" class=\"sk-top-container\"><div class=\"sk-text-repr-fallback\"><pre>LinearRegression()</pre><b>In a Jupyter environment, please rerun this cell to show the HTML representation or trust the notebook. <br />On GitHub, the HTML representation is unable to render, please try loading this page with nbviewer.org.</b></div><div class=\"sk-container\" hidden><div class=\"sk-item\"><div class=\"sk-estimator sk-toggleable\"><input class=\"sk-toggleable__control sk-hidden--visually\" id=\"sk-estimator-id-1\" type=\"checkbox\" checked><label for=\"sk-estimator-id-1\" class=\"sk-toggleable__label sk-toggleable__label-arrow\">LinearRegression</label><div class=\"sk-toggleable__content\"><pre>LinearRegression()</pre></div></div></div></div></div>"
      ],
      "text/plain": [
       "LinearRegression()"
      ]
     },
     "execution_count": 27,
     "metadata": {},
     "output_type": "execute_result"
    }
   ],
   "source": [
    "from sklearn.linear_model import LinearRegression\n",
    "lr = LinearRegression()\n",
    "lr.fit(x_train, y_train)"
   ]
  },
  {
   "cell_type": "code",
   "execution_count": 28,
   "id": "45956ff1-cef6-40a6-8931-d0bc50b5779b",
   "metadata": {},
   "outputs": [
    {
     "name": "stdout",
     "output_type": "stream",
     "text": [
      "[82.26943854]\n",
      "10225.638021973604\n"
     ]
    }
   ],
   "source": [
    "print(lr.coef_)\n",
    "print(lr.intercept_)"
   ]
  },
  {
   "cell_type": "code",
   "execution_count": 30,
   "id": "51a4d561-7904-4d63-8027-d144373d8a6f",
   "metadata": {},
   "outputs": [
    {
     "data": {
      "image/png": "[encoded data removed]",
      "text/plain": [
       "<Figure size 640x480 with 1 Axes>"
      ]
     },
     "metadata": {},
     "output_type": "display_data"
    }
   ],
   "source": [
    "y_pred_train = lr.predict(x_train)\n",
    "plt.scatter(x_train, y_train)\n",
    "plt.plot(x_train, y_pred_train, color = 'red')\n",
    "plt.xlabel(\"Months\")\n",
    "plt.ylabel(\"Sales\")\n",
    "plt.show()"
   ]
  },
  {
   "cell_type": "code",
   "execution_count": 32,
   "id": "4995389e-3961-4a15-9d06-1ae850c1583f",
   "metadata": {},
   "outputs": [
    {
     "data": {
      "text/plain": [
       "0.35550499414764514"
      ]
     },
     "execution_count": 32,
     "metadata": {},
     "output_type": "execute_result"
    }
   ],
   "source": [
    "y_test_pred = lr.predict(x_test)\n",
    "score = lr.score(x_test, y_test)\n",
    "score"
   ]
  },
  {
   "cell_type": "code",
   "execution_count": 36,
   "id": "ec499fc0-4256-4acd-b2b5-5efa0ace325f",
   "metadata": {},
   "outputs": [
    {
     "data": {
      "text/plain": [
       "array([10225.63802197, 10307.90746052, 10390.17689906, 10472.44633761,\n",
       "       10554.71577615, 10636.9852147 , 10719.25465324, 10801.52409179,\n",
       "       10883.79353033, 10966.06296888, 11048.33240742, 11130.60184597,\n",
       "       11212.87128451, 11295.14072306, 11377.4101616 , 11459.67960014,\n",
       "       11541.94903869, 11624.21847723, 11706.48791578, 11788.75735432,\n",
       "       11871.02679287, 11953.29623141, 12035.56566996, 12117.8351085 ,\n",
       "       12200.10454705, 12282.37398559, 12364.64342414, 12446.91286268,\n",
       "       12529.18230123, 12611.45173977, 12693.72117832, 12775.99061686,\n",
       "       12858.2600554 , 12940.52949395, 13022.79893249, 13105.06837104,\n",
       "       13187.33780958, 13269.60724813, 13351.87668667, 13434.14612522,\n",
       "       13516.41556376, 13598.68500231, 13680.95444085, 13763.2238794 ,\n",
       "       13845.49331794, 13927.76275649, 14010.03219503, 14092.30163358,\n",
       "       14174.57107212, 14256.84051067, 14339.10994921, 14421.37938775,\n",
       "       14503.6488263 , 14585.91826484, 14668.18770339, 14750.45714193,\n",
       "       14832.72658048, 14914.99601902, 14997.26545757, 15079.53489611,\n",
       "       15161.80433466, 15244.0737732 , 15326.34321175, 15408.61265029,\n",
       "       15490.88208884, 15573.15152738, 15655.42096593, 15737.69040447,\n",
       "       15819.95984302, 15902.22928156, 15984.4987201 , 16066.76815865,\n",
       "       16149.03759719, 16231.30703574, 16313.57647428, 16395.84591283,\n",
       "       16478.11535137, 16560.38478992, 16642.65422846, 16724.92366701,\n",
       "       16807.19310555, 16889.4625441 , 16971.73198264, 17054.00142119,\n",
       "       17136.27085973, 17218.54029828, 17300.80973682, 17383.07917537,\n",
       "       17465.34861391, 17547.61805245, 17629.887491  , 17712.15692954,\n",
       "       17794.42636809, 17876.69580663, 17958.96524518, 18041.23468372,\n",
       "       18123.50412227, 18205.77356081, 18288.04299936, 18370.3124379 ,\n",
       "       18452.58187645, 18534.85131499, 18617.12075354, 18699.39019208,\n",
       "       18781.65963063, 18863.92906917, 18946.19850772, 19028.46794626,\n",
       "       19110.7373848 , 19193.00682335, 19275.27626189, 19357.54570044,\n",
       "       19439.81513898, 19522.08457753, 19604.35401607, 19686.62345462,\n",
       "       19768.89289316, 19851.16233171, 19933.43177025, 20015.7012088 ])"
      ]
     },
     "execution_count": 36,
     "metadata": {},
     "output_type": "execute_result"
    }
   ],
   "source": [
    "x_extend = np.append(car_sales['period'], np.arange(108, 120))\n",
    "x_extend = x_extend.reshape(-1, 1)\n",
    "extend_pred = lr.predict(x_extend)\n",
    "#Predict sales for the next one year\n",
    "extend_pred"
   ]
  },
  {
   "cell_type": "code",
   "execution_count": 38,
   "id": "dcd81da6-dd9f-45bd-a6c4-c9d876031510",
   "metadata": {},
   "outputs": [
    {
     "data": {
      "text/plain": [
       "1.0"
      ]
     },
     "execution_count": 38,
     "metadata": {},
     "output_type": "execute_result"
    }
   ],
   "source": [
    "score = lr.score(x_extend, extend_pred)\n",
    "score"
   ]
  },
  {
   "cell_type": "code",
   "execution_count": null,
   "id": "c3f9e0e7-e193-40b4-b77a-5b8d561fe8cf",
   "metadata": {},
   "outputs": [],
   "source": []
  },
  {
   "cell_type": "code",
   "execution_count": null,
   "id": "c11c32a1-85af-4615-8408-b3cb4155f77c",
   "metadata": {},
   "outputs": [],
   "source": []
  },
  {
   "cell_type": "code",
   "execution_count": null,
   "id": "96efa117-08a0-48f6-b92f-d51bacbfc1f1",
   "metadata": {},
   "outputs": [],
   "source": []
  }
 ],
 "metadata": {
  "kernelspec": {
   "display_name": "Python 3 (ipykernel)",
   "language": "python",
   "name": "python3"
  },
  "language_info": {
   "codemirror_mode": {
    "name": "ipython",
    "version": 3
   },
   "file_extension": ".py",
   "mimetype": "text/x-python",
   "name": "python",
   "nbconvert_exporter": "python",
   "pygments_lexer": "ipython3",
   "version": "3.11.5"
  }
 },
 "nbformat": 4,
 "nbformat_minor": 5
}
