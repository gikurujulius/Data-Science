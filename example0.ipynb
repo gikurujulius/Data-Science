{
 "cells": [
  {
   "cell_type": "code",
   "execution_count": 2,
   "id": "42ef49ca",
   "metadata": {},
   "outputs": [],
   "source": [
    "import pandas as pd\n",
    "import numpy as np\n",
    "from matplotlib import pyplot as plt"
   ]
  },
  {
   "cell_type": "code",
   "execution_count": 3,
   "id": "9b378840",
   "metadata": {},
   "outputs": [],
   "source": [
    "#creating a dataframe from a dictionary\n",
    "d = {'year': [2010, 2011, 2012,\n",
    "                2010, 2011, 2012,\n",
    "                2010, 2011, 2012],\n",
    "       'teams': ['FCBarcelona', 'FCBarcelona',\n",
    "                 'FCBarcelona', 'RMadrid',\n",
    "                 'RMadrid', 'RMadrid', 'ValenciaCF', \n",
    "                 'ValenciaCF', 'ValenciaCF'],\n",
    "        'wins': [30, 28, 32, 29, 32, 26, 21, 17, 19],\n",
    "        'draws': [6, 7, 4, 5, 4, 7, 8, 10, 8],\n",
    "        'losses': [2, 3, 2, 4, 2, 5, 9, 11, 11]\n",
    "       }\n",
    "football = pd.DataFrame(data = d, columns = ['year', 'teams', 'wins', 'draws', 'losses'])"
   ]
  },
  {
   "cell_type": "code",
   "execution_count": 6,
   "id": "b0dc78cb",
   "metadata": {},
   "outputs": [
    {
     "name": "stdout",
     "output_type": "stream",
     "text": [
      "   year        teams  wins  draws  losses\n",
      "0  2010  FCBarcelona    30      6       2\n",
      "1  2011  FCBarcelona    28      7       3\n",
      "2  2012  FCBarcelona    32      4       2\n",
      "3  2010      RMadrid    29      5       4\n",
      "4  2011      RMadrid    32      4       2\n"
     ]
    }
   ],
   "source": [
    "#Checking the output\n",
    "print(football.head())"
   ]
  },
  {
   "cell_type": "code",
   "execution_count": null,
   "id": "76414de2",
   "metadata": {},
   "outputs": [],
   "source": []
  }
 ],
 "metadata": {
  "kernelspec": {
   "display_name": "Python 3 (ipykernel)",
   "language": "python",
   "name": "python3"
  },
  "language_info": {
   "codemirror_mode": {
    "name": "ipython",
    "version": 3
   },
   "file_extension": ".py",
   "mimetype": "text/x-python",
   "name": "python",
   "nbconvert_exporter": "python",
   "pygments_lexer": "ipython3",
   "version": "3.11.5"
  }
 },
 "nbformat": 4,
 "nbformat_minor": 5
}
